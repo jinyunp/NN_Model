{
 "cells": [
  {
   "cell_type": "markdown",
   "id": "e260f0f0-dd55-4229-a786-8504252dae32",
   "metadata": {},
   "source": [
    "# Neural Network from scratch\n",
    "ref: https://medium.com/@andresberejnoi/how-to-implement-backpropagation-with-numpy-andres-berejnoi-e7c14f2e683a\n",
    "<br> https://www.askpython.com/python/examples/backpropagation-in-python\n",
    "<br> https://medium.com/@waleedmousa975/building-a-neural-network-from-scratch-using-numpy-and-math-libraries-a-step-by-step-tutorial-in-608090c20466\n",
    "<br> https://github.com/dennybritz/nn-from-scratch/blob/master/nn-from-scratch.ipynb\n",
    "\n",
    "- Normalization (MinMax, MaxAbs, standardization)\n",
    "- Initialize weight\n",
    "- Activation function/dericative (Linear, Sigmoid)\n",
    "- Feedforward\n",
    "- Backpropagation\n",
    "- Weight update(Sequential)"
   ]
  },
  {
   "cell_type": "code",
   "execution_count": 4,
   "id": "167f1f49-94d5-455c-8ceb-46284ea26e37",
   "metadata": {},
   "outputs": [],
   "source": [
    "# install libraries\n",
    "import numpy as np"
   ]
  },
  {
   "cell_type": "markdown",
   "id": "7a51abc9-0eeb-4de6-a7d6-d2a8c2d8c2ea",
   "metadata": {},
   "source": [
    "## Normalization\n",
    "- MinMax\n",
    "- MaxAbs\n",
    "- Standardization"
   ]
  },
  {
   "cell_type": "code",
   "execution_count": 2,
   "id": "24c3d998-0a79-42cf-875a-a189e510a41c",
   "metadata": {},
   "outputs": [
    {
     "data": {
      "text/plain": [
       "array([[-1. ,  2. ],\n",
       "       [-0.5,  6. ],\n",
       "       [ 0. , 10. ],\n",
       "       [ 1. , 18. ]])"
      ]
     },
     "execution_count": 2,
     "metadata": {},
     "output_type": "execute_result"
    }
   ],
   "source": [
    "X = np.array([[-1. ,  2. ],\n",
    "       [-0.5,  6. ],\n",
    "       [ 0. , 10. ],\n",
    "       [ 1. , 18. ]])\n",
    "X"
   ]
  },
  {
   "cell_type": "markdown",
   "id": "de78e6fa-27da-418c-86a2-025b75800092",
   "metadata": {},
   "source": [
    "#### MinMax Normalization\n",
    "## $x_{scaled} =\\frac{ x - x_{min}} {x_{max} - x_{min}}$"
   ]
  },
  {
   "cell_type": "code",
   "execution_count": 3,
   "id": "d777b6d0-80af-4419-9d0e-a8ee33b6018c",
   "metadata": {},
   "outputs": [],
   "source": [
    "def MinMax(X):\n",
    "    X_scaled = (X - X.min(axis=0)) / (X.max(axis=0) - X.min(axis=0))    \n",
    "    return X_scaled"
   ]
  },
  {
   "cell_type": "code",
   "execution_count": 4,
   "id": "7270636a-ed27-4167-bae4-797c19699fb5",
   "metadata": {},
   "outputs": [
    {
     "data": {
      "text/plain": [
       "array([[0.  , 0.  ],\n",
       "       [0.25, 0.25],\n",
       "       [0.5 , 0.5 ],\n",
       "       [1.  , 1.  ]])"
      ]
     },
     "execution_count": 4,
     "metadata": {},
     "output_type": "execute_result"
    }
   ],
   "source": [
    "MinMax(X)"
   ]
  },
  {
   "cell_type": "code",
   "execution_count": 5,
   "id": "b245be48-92f7-44e4-be36-6ad69638ec92",
   "metadata": {},
   "outputs": [
    {
     "data": {
      "text/plain": [
       "array([[0.  , 0.  ],\n",
       "       [0.25, 0.25],\n",
       "       [0.5 , 0.5 ],\n",
       "       [1.  , 1.  ]])"
      ]
     },
     "execution_count": 5,
     "metadata": {},
     "output_type": "execute_result"
    }
   ],
   "source": [
    "# sklearn version: using libraries\n",
    "from sklearn.preprocessing import MinMaxScaler\n",
    "scaler = MinMaxScaler()\n",
    "scaler.fit_transform(X)"
   ]
  },
  {
   "cell_type": "markdown",
   "id": "504c73cd-fe53-4769-be70-6bbf39769aea",
   "metadata": {},
   "source": [
    "#### MaxAbs Normalization\n",
    "## $x_{scaled} =\\frac{ x } {max(|x|)}$"
   ]
  },
  {
   "cell_type": "code",
   "execution_count": 6,
   "id": "cf192851-21f7-4320-981a-9d2a3b6faa36",
   "metadata": {},
   "outputs": [],
   "source": [
    "def MaxAbs(X):\n",
    "    X_scaled = X / np.absolute(X).max(axis=0)\n",
    "    return X_scaled"
   ]
  },
  {
   "cell_type": "code",
   "execution_count": 7,
   "id": "1161a1e3-9812-4a20-94fe-82b2d9ded9c1",
   "metadata": {},
   "outputs": [
    {
     "data": {
      "text/plain": [
       "array([[-1.        ,  0.11111111],\n",
       "       [-0.5       ,  0.33333333],\n",
       "       [ 0.        ,  0.55555556],\n",
       "       [ 1.        ,  1.        ]])"
      ]
     },
     "execution_count": 7,
     "metadata": {},
     "output_type": "execute_result"
    }
   ],
   "source": [
    "MaxAbs(X)"
   ]
  },
  {
   "cell_type": "code",
   "execution_count": 6,
   "id": "5f761b28-8e82-4d9f-8f60-e749cd69eaba",
   "metadata": {},
   "outputs": [
    {
     "data": {
      "text/plain": [
       "array([[-1.        ,  0.11111111],\n",
       "       [-0.5       ,  0.33333333],\n",
       "       [ 0.        ,  0.55555556],\n",
       "       [ 1.        ,  1.        ]])"
      ]
     },
     "execution_count": 6,
     "metadata": {},
     "output_type": "execute_result"
    }
   ],
   "source": [
    "# sklearn version\n",
    "from sklearn.preprocessing import MaxAbsScaler\n",
    "scaler = MaxAbsScaler()\n",
    "scaler.fit_transform(X)"
   ]
  },
  {
   "cell_type": "markdown",
   "id": "5bc19749-f7db-43c5-ada7-1573954a728d",
   "metadata": {},
   "source": [
    "#### Standardization Normalization\n",
    "## $x_{scaled} =\\frac{ x - \\mu } {\\sigma}$"
   ]
  },
  {
   "cell_type": "code",
   "execution_count": 9,
   "id": "cf8077e1-b500-484e-9631-d1b8f0dcc014",
   "metadata": {},
   "outputs": [],
   "source": [
    "def Standard(X):\n",
    "    X_scaled = ( X - X.mean(axis=0) ) / X.std(axis=0)\n",
    "    return X_scaled"
   ]
  },
  {
   "cell_type": "code",
   "execution_count": 10,
   "id": "b8c23fb1-4b29-4434-9580-577a0ec5e6bb",
   "metadata": {},
   "outputs": [
    {
     "data": {
      "text/plain": [
       "array([[-1.18321596, -1.18321596],\n",
       "       [-0.50709255, -0.50709255],\n",
       "       [ 0.16903085,  0.16903085],\n",
       "       [ 1.52127766,  1.52127766]])"
      ]
     },
     "execution_count": 10,
     "metadata": {},
     "output_type": "execute_result"
    }
   ],
   "source": [
    "Standard(X)"
   ]
  },
  {
   "cell_type": "code",
   "execution_count": 11,
   "id": "d97dd9cc-3cab-4fab-9a43-73630848d6b5",
   "metadata": {},
   "outputs": [
    {
     "data": {
      "text/plain": [
       "array([[-1.18321596, -1.18321596],\n",
       "       [-0.50709255, -0.50709255],\n",
       "       [ 0.16903085,  0.16903085],\n",
       "       [ 1.52127766,  1.52127766]])"
      ]
     },
     "execution_count": 11,
     "metadata": {},
     "output_type": "execute_result"
    }
   ],
   "source": [
    "# sklearn version\n",
    "from sklearn.preprocessing import StandardScaler\n",
    "scaler = StandardScaler()\n",
    "scaler.fit_transform(X)"
   ]
  },
  {
   "cell_type": "markdown",
   "id": "605365f4-3f11-444d-9e28-34ac62222743",
   "metadata": {},
   "source": [
    "## Initialize Weights"
   ]
  },
  {
   "cell_type": "code",
   "execution_count": 12,
   "id": "e29b3bec-b89c-4b85-b127-c65739b85735",
   "metadata": {},
   "outputs": [
    {
     "data": {
      "text/plain": [
       "(array([[0, 0],\n",
       "        [0, 1],\n",
       "        [1, 0],\n",
       "        [1, 1]]),\n",
       " array([[0],\n",
       "        [1],\n",
       "        [1],\n",
       "        [0]]))"
      ]
     },
     "execution_count": 12,
     "metadata": {},
     "output_type": "execute_result"
    }
   ],
   "source": [
    "# create a toy dataset\n",
    "X = np.array([[0, 0], [0, 1], [1, 0], [1, 1]])\n",
    "y = np.array([[0], [1], [1], [0]])\n",
    "X, y"
   ]
  },
  {
   "cell_type": "code",
   "execution_count": 13,
   "id": "9b40faa5-2b60-4c98-8adb-3a602ecac5c7",
   "metadata": {},
   "outputs": [],
   "source": [
    "# hyperparameters settings\n",
    "learning_rate = 0.1\n",
    "iterations = 5000\n",
    "# N = y_train_size"
   ]
  },
  {
   "cell_type": "code",
   "execution_count": 14,
   "id": "c970f3e8-5356-417a-95df-427a1747d41e",
   "metadata": {},
   "outputs": [],
   "source": [
    "# initialize weights and biases\n",
    "def initialize_parameters(input_size, hidden_size, output_size):\n",
    "    np.random.seed(0)\n",
    "    W1 = np.random.randn(hidden_size, input_size) * 0.01\n",
    "    b1 = np.zeros((hidden_size, 1))\n",
    "    W2 = np.random.randn(output_size, hidden_size) * 0.01\n",
    "    b2 = np.zeros((output_size, 1))\n",
    "    parameters = {\"W1\": W1, \"b1\": b1, \"W2\": W2, \"b2\": b2}\n",
    "    return parameters\n",
    "\n",
    "parameters = initialize_parameters(2, 3, 1)"
   ]
  },
  {
   "cell_type": "code",
   "execution_count": 15,
   "id": "f947ea2f-ce33-45f3-bbbc-56725d74d595",
   "metadata": {},
   "outputs": [
    {
     "data": {
      "text/plain": [
       "{'W1': array([[ 0.01764052,  0.00400157],\n",
       "        [ 0.00978738,  0.02240893],\n",
       "        [ 0.01867558, -0.00977278],\n",
       "        [ 0.00950088, -0.00151357]]),\n",
       " 'b1': array([[0.],\n",
       "        [0.],\n",
       "        [0.],\n",
       "        [0.]]),\n",
       " 'W2': array([[-0.00103219,  0.00410599,  0.00144044,  0.01454274]]),\n",
       " 'b2': array([[0.]])}"
      ]
     },
     "execution_count": 15,
     "metadata": {},
     "output_type": "execute_result"
    }
   ],
   "source": [
    "parameters"
   ]
  },
  {
   "cell_type": "markdown",
   "id": "ff2ad0ac-0fc3-4a9e-b29a-3f57c4a049ef",
   "metadata": {},
   "source": [
    "## Activation Function\n",
    ": to compute the weighted sum of inputs and biases\n",
    "- Linear\n",
    "- sigmoid / logistic\n",
    "- Tanh / hyperbolic tangent\n",
    "- ReLU + Leaky ReLU\n",
    "- Softmax  "
   ]
  },
  {
   "cell_type": "markdown",
   "id": "5e19e5e7-d083-45cf-a0c8-b31a688e5c81",
   "metadata": {},
   "source": [
    "Linear\n",
    "### $f(x) = ax+c$"
   ]
  },
  {
   "cell_type": "code",
   "execution_count": 32,
   "id": "d448b517-f5b8-4f46-b3b0-291dcdfae9a8",
   "metadata": {},
   "outputs": [],
   "source": [
    "def linear(x):\n",
    "    return x"
   ]
  },
  {
   "cell_type": "markdown",
   "id": "fd011e1f-6012-4cff-b1d9-3b37610d3d14",
   "metadata": {},
   "source": [
    " Sigmoid\n",
    "### $f(x) = \\frac{1} {1 + e^{-x}}$"
   ]
  },
  {
   "cell_type": "code",
   "execution_count": 28,
   "id": "bf7c3f88-69b6-4647-a676-79b16405966c",
   "metadata": {},
   "outputs": [],
   "source": [
    "# sigmoid function\n",
    "\n",
    "\n",
    "def sigmoid(x):\n",
    "    return 1 / (1 + np.exp(-x))"
   ]
  },
  {
   "cell_type": "markdown",
   "id": "fe64e04c-7562-43be-81b5-42562fb270d9",
   "metadata": {},
   "source": [
    "tanh\n",
    "### $ f(x) = tanh(x) = \\frac{e^x-e^{-x}}{e^x+e^{-x}}$"
   ]
  },
  {
   "cell_type": "code",
   "execution_count": 33,
   "id": "a659a683-445f-4bcb-9757-66a463845f04",
   "metadata": {},
   "outputs": [],
   "source": [
    "# activation function and its derivative\n",
    "def tanh(x, derivative=False):\n",
    "    if derivative:\n",
    "        return 1-np.tanh(x)**2\n",
    "    else:\n",
    "        return np.tanh(x)\n",
    "    \n",
    "\n",
    "def tanh(x):\n",
    "    return np.tanh(x)"
   ]
  },
  {
   "cell_type": "markdown",
   "id": "233d2e94-cb7a-4076-b50a-97d7190f22e5",
   "metadata": {},
   "source": [
    "ReLU\n",
    "### $ f(x) = max(0, x)$\n",
    "Leaky ReLU\n",
    "### $ f(x) = max(0.01x, x) $"
   ]
  },
  {
   "cell_type": "code",
   "execution_count": 44,
   "id": "0265f321-b847-41b3-a0a6-e0217661b666",
   "metadata": {},
   "outputs": [],
   "source": [
    "def relu(x):\n",
    "    return max(0,x)\n",
    "\n",
    "def leakyrelu(x):\n",
    "    return max(0.01*x, x)"
   ]
  },
  {
   "cell_type": "markdown",
   "id": "9230c8b3-3cc2-4cc8-bed1-7c9ac12b9732",
   "metadata": {},
   "source": [
    "Softmax\n",
    "### $ f(x) = \\frac{e^{x}}{\\sum_{i=1}^K e^{x_{i}}} \\ \\ \\ for\\ i=1,2,\\dots,K $"
   ]
  },
  {
   "cell_type": "code",
   "execution_count": 72,
   "id": "60b2603c-3e57-479a-ba3d-21c8fc7928c1",
   "metadata": {},
   "outputs": [],
   "source": [
    "def softmax(x):\n",
    "    return np.exp(x) / np.sum(np.exp(x))"
   ]
  },
  {
   "cell_type": "code",
   "execution_count": 8,
   "id": "35dd9085",
   "metadata": {},
   "outputs": [],
   "source": [
    "# https://gist.github.com/Lucs1590/1e7170bd664207e814354e6777b0bc99\n",
    "# https://www.kaggle.com/code/selahattinbareleb/graphs-of-activation-functions-with-python\n",
    "import matplotlib.pyplot as plt"
   ]
  },
  {
   "cell_type": "code",
   "execution_count": 100,
   "id": "82ea6ad2-53f5-4b28-a53f-e2034c571782",
   "metadata": {},
   "outputs": [
    {
     "data": {
      "image/png": "[encoded data removed]",
      "text/plain": [
       "<Figure size 640x480 with 1 Axes>"
      ]
     },
     "metadata": {},
     "output_type": "display_data"
    }
   ],
   "source": [
    "# sigmoid\n",
    "x = np.linspace(-10,10,100)\n",
    "sigmoid = 1/(1+np.exp(-x))\n",
    "#tanh\n",
    "tanh = np.tanh(x)\n",
    "#relu\n",
    "relu = np.maximum(0,x)\n",
    "#leaky relu\n",
    "Lrelu = np.maximum(0.01*x, x)\n",
    "#softmax\n",
    "softmax = np.exp(x) / np.sum(np.exp(x))\n",
    "\n",
    "# plt.plot(x, x, c='k')\n",
    "# plt.plot(x, sigmoid, c='r')\n",
    "# plt.plot(x, tanh, c='y')\n",
    "# plt.plot(x, relu, c='g')\n",
    "# plt.plot(x, Lrelu, c='b')\n",
    "plt.plot(x, softmax, c='purple')\n",
    "plt.xlabel('Input')\n",
    "plt.ylabel('Output')\n",
    "# plt.ylim([-3,1])\n",
    "# plt.xlim([-5,5])\n",
    "plt.title('Softmax Activation Function Graphs')\n",
    "plt.grid(True)\n",
    "plt.show()"
   ]
  },
  {
   "cell_type": "markdown",
   "id": "eece06d1-3a07-4b9a-996d-859082f8e646",
   "metadata": {},
   "source": [
    "## Feedforward"
   ]
  },
  {
   "cell_type": "markdown",
   "id": "6dd7a117-3729-4eea-8071-7e876e33c021",
   "metadata": {},
   "source": []
  },
  {
   "cell_type": "code",
   "execution_count": 30,
   "id": "573a9fc5-1642-4656-b887-c453a85af708",
   "metadata": {},
   "outputs": [],
   "source": [
    "# forward propagation\n",
    "def forward_propagation(X, parameters):\n",
    "    # retrieve the parameters\n",
    "    W1, b1, W2, b2 = list(parameters.values())\n",
    "    \n",
    "    # compute the activation of the hidden layer\n",
    "    Z1 = np.dot(W1, X.T) + b1\n",
    "    A1 = sigmoid(Z1)\n",
    "    \n",
    "    # compute the activation of the output layer\n",
    "    Z2 = np.dot(W2, A1) + b2\n",
    "    A2 = sigmoid(Z2)\n",
    "    \n",
    "    cache = {\"Z1\": Z1, \"A1\": A1, \"Z2\": Z2, \"A2\": A2}\n",
    "    \n",
    "    return A2, cache"
   ]
  },
  {
   "cell_type": "code",
   "execution_count": 31,
   "id": "8694824f-8100-4d40-b7d2-304e900ccded",
   "metadata": {},
   "outputs": [
    {
     "data": {
      "text/plain": [
       "(array([[0.5023821 , 0.50238534, 0.50239379, 0.50239703]]),\n",
       " {'Z1': array([[ 0.        ,  0.00400157,  0.01764052,  0.0216421 ],\n",
       "         [ 0.        ,  0.02240893,  0.00978738,  0.03219631],\n",
       "         [ 0.        , -0.00977278,  0.01867558,  0.0089028 ],\n",
       "         [ 0.        , -0.00151357,  0.00950088,  0.00798731]]),\n",
       "  'A1': array([[0.5       , 0.50100039, 0.50441002, 0.50541031],\n",
       "         [0.5       , 0.505602  , 0.50244683, 0.50804838],\n",
       "         [0.5       , 0.49755682, 0.50466876, 0.50222569],\n",
       "         [0.5       , 0.49962161, 0.5023752 , 0.50199682]]),\n",
       "  'Z2': array([[0.00952848, 0.00954143, 0.00957525, 0.00958819]]),\n",
       "  'A2': array([[0.5023821 , 0.50238534, 0.50239379, 0.50239703]])})"
      ]
     },
     "execution_count": 31,
     "metadata": {},
     "output_type": "execute_result"
    }
   ],
   "source": [
    "forward_propagation(X, parameters)"
   ]
  },
  {
   "cell_type": "markdown",
   "id": "53c3dd75-4854-46a9-b7fc-f2266cde32ca",
   "metadata": {},
   "source": [
    "## Loss Function\n",
    "https://tariqueakhtar-39220.medium.com/implementing-loss-or-cost-function-in-python-from-scratch-a6906428092e\n",
    "<br> https://www.pinecone.io/learn/cross-entropy-loss/\n",
    "\n",
    "<br>Regression\n",
    "- MSE\n",
    "- MAE\n",
    "- SSE\n",
    "\n",
    "<br>Classification\n",
    "- Cross Entropy"
   ]
  },
  {
   "cell_type": "markdown",
   "id": "c49dca6f-9d2a-4d19-a3c6-a6135d617e6e",
   "metadata": {},
   "source": [
    "Mean Squared Error MSE\n",
    "## $\\frac{1}{n}\\sum_{i=1}^{D}(x_i-y_i)^2$"
   ]
  },
  {
   "cell_type": "code",
   "execution_count": 85,
   "id": "8fa6054a-492b-482f-b8f4-77649406b66c",
   "metadata": {},
   "outputs": [],
   "source": [
    "def mean_squared_error(A2, y_true):\n",
    "    # One-hot encode y_true (i.e., convert [0, 1, 2] into [[1, 0, 0], [0, 1, 0], [0, 0, 1]])\n",
    "    y_true_one_hot = np.eye(output_size)[y_true]\n",
    "     \n",
    "    # Reshape y_true_one_hot to match y_pred shape\n",
    "    y_true_reshaped = y_true_one_hot.reshape(A2.shape)\n",
    "     \n",
    "    # Compute the mean squared error between y_pred and y_true_reshaped\n",
    "    error = ((A2 - y_true_reshaped)**2).sum() / (2*A2.size)\n",
    " \n",
    "    return error\n",
    "\n",
    "def mse(y_true, y_predicted):\n",
    "    total_error = 0\n",
    "    for yt, yp in zip(y_true, y_predicted):\n",
    "        total_error += (yt-yp)**2\n",
    "    print(\"Total Squared Error:\",total_error)\n",
    "    mse = total_error/len(y_true)\n",
    "    print(\"Mean Squared Error:\",mse)\n",
    "    return mse"
   ]
  },
  {
   "cell_type": "markdown",
   "id": "fd2cf6ba-22eb-4780-aea2-e9327717a87f",
   "metadata": {},
   "source": [
    "Mean Absolute Error MAE\n",
    "### $\\frac{1}{n}\\sum_{i=1}^{D}|x_i-y_i|$"
   ]
  },
  {
   "cell_type": "code",
   "execution_count": 38,
   "id": "3de936e3-8997-4f7d-8760-64341306e4dc",
   "metadata": {},
   "outputs": [],
   "source": [
    "def mean_absolute_error(y_predicted, y_true):\n",
    "    total_error = 0\n",
    "    for yp, yt in zip(y_predicted, y_true):\n",
    "        total_error += abs(yp - yt)\n",
    "    # print(\"Total error is:\",total_error)\n",
    "    mae = total_error/len(y_predicted)\n",
    "    # print(\"Mean absolute error is:\",mae)\n",
    "    return mae"
   ]
  },
  {
   "cell_type": "markdown",
   "id": "bd8cce09-3885-4062-bd7a-3c9e08deb2d7",
   "metadata": {},
   "source": [
    "Binary Cross Entropy\n",
    "### $-\\frac{1}{N}\\sum_{i=1}^{N} {(y_i\\log(p_i) + (1 - y_i)\\log(1 - p_i))}$\n",
    "Categorical Cross Entropy\n",
    "### $-\\frac{1}{N}\\sum \\sum_{i=1}^My_{i}\\log(p_{i})$"
   ]
  },
  {
   "cell_type": "code",
   "execution_count": 87,
   "id": "6167fd86-f8d6-459a-9592-a11e9a47a586",
   "metadata": {},
   "outputs": [],
   "source": [
    "# binary\n",
    "def binary_cross_entropy(y_true,A2):\n",
    "    y_true = np.float_(y_true)\n",
    "    A2 = np.float_(A2)\n",
    "    # binary cross-entropy loss\n",
    "    return -np.sum(y_true * np.log(A2) + (1 - y_true) * np.log(1 - A2))\n",
    "\n",
    "#categorical\n",
    "def categorical_cross_entropy(y_true_list,y_pred_list):\n",
    "    y_true_list = np.float_(y_true_list)\n",
    "    y_pred_list = np.float_(y_pred_list)\n",
    "    losses = []\n",
    "    for y_true,y_pred in zip(y_true_list,y_pred_list):\n",
    "      loss = -np.sum(y_true * np.log(y_pred))\n",
    "      losses.append(loss)\n",
    "      print(f't:{y_true}, y_pred:{y_pred},loss:{loss}\\n')\n",
    "    return np.sum(losses)"
   ]
  },
  {
   "cell_type": "code",
   "execution_count": null,
   "id": "5c5128af-cc16-4b27-b145-c6280c60a656",
   "metadata": {},
   "outputs": [],
   "source": []
  },
  {
   "cell_type": "markdown",
   "id": "6e698ea8-b94f-4aa0-84c6-9afea047a875",
   "metadata": {},
   "source": [
    "## Backpropagation"
   ]
  },
  {
   "cell_type": "code",
   "execution_count": 88,
   "id": "00c96f96-0dbf-4e47-9787-ba73a633109e",
   "metadata": {},
   "outputs": [],
   "source": [
    "# backward propagation\n",
    "def backward_propagation(parameters, cache, X, y):\n",
    "    m = y.shape[0]\n",
    "    \n",
    "    # retrieve the intermediate values\n",
    "    Z1 = cache[\"Z1\"]\n",
    "    A1 = cache[\"A1\"]\n",
    "    Z2 = cache[\"Z2\"]\n",
    "    A2 = cache[\"A2\"]\n",
    "    \n",
    "    # compute the derivative of the loss with respect to A2\n",
    "    dA2 = - (y/A2) + ((1-y)/(1-A2))\n",
    "    \n",
    "    # compute the derivative of the activation function of the output layer\n",
    "    dZ2 = dA2 * (A2 * (1-A2))\n",
    "    \n",
    "    # compute the derivative of the weights and biases of the output layer\n",
    "    dW2 = (1/m) * np.dot(dZ2, A1.T)\n",
    "    db2 = (1/m) * np.sum(dZ2, axis=1, keepdims=True)\n",
    "    \n",
    "    # compute the derivative of the activation function of the hidden layer\n",
    "    dA1 = np.dot(parameters[\"W2\"].T, dZ2)\n",
    "    dZ1 = dA1 * (A1 * (1-A1))\n",
    "    \n",
    "    # compute the derivative of the weights and biases of the hidden layer\n",
    "    dW1 = (1/m) * np.dot(dZ1, X)\n",
    "    db1 = (1/m) * np.sum(dZ1, axis=1, keepdims=True)\n",
    "    gradients = {\"dW1\": dW1, \"db1\": db1, \"dW2\": dW2, \"db2\": db2}\n",
    "\n",
    "    return gradients"
   ]
  },
  {
   "cell_type": "markdown",
   "id": "63802a07-0013-425c-8971-f69854b7da29",
   "metadata": {},
   "source": [
    "## Weight Update"
   ]
  },
  {
   "cell_type": "code",
   "execution_count": 89,
   "id": "6f091976-504c-487e-a486-a0cc0b0d9150",
   "metadata": {},
   "outputs": [],
   "source": [
    "# update parameters\n",
    "def update_parameters(parameters, gradients, learning_rate):\n",
    "    # retrieve the gradients\n",
    "    dW1 = gradients[\"dW1\"]\n",
    "    db1 = gradients[\"db1\"]\n",
    "    dW2 = gradients[\"dW2\"]\n",
    "    db2 = gradients[\"db2\"]\n",
    "    \n",
    "    # retrieve the weights and biases\n",
    "    W1 = parameters[\"W1\"]\n",
    "    b1 = parameters[\"b1\"]\n",
    "    W2 = parameters[\"W2\"]\n",
    "    b2 = parameters[\"b2\"]\n",
    "    \n",
    "    # update the weights and biases\n",
    "    W1 = W1 - learning_rate*dW1\n",
    "    b1 = b1 - learning_rate*db1\n",
    "    W2 = W2 - learning_rate*dW2\n",
    "    b2 = b2 - learning_rate*db2\n",
    "    \n",
    "    parameters = {\"W1\": W1, \"b1\": b1, \"W2\": W2, \"b2\": b2}\n",
    "    \n",
    "    return parameters"
   ]
  },
  {
   "cell_type": "markdown",
   "id": "70ce7a15-ccc4-46aa-9cda-b76e987fac86",
   "metadata": {},
   "source": [
    "## Combining as one flow"
   ]
  },
  {
   "cell_type": "code",
   "execution_count": null,
   "id": "9d7058db-d5dd-40bc-9de9-dbd9c52fd734",
   "metadata": {},
   "outputs": [],
   "source": [
    "# model settings\n",
    "# hyperparameters settings\n",
    "learning_rate = 0.1\n",
    "iterations = 5000\n",
    "\n",
    "hidden "
   ]
  }
 ],
 "metadata": {
  "kernelspec": {
   "display_name": "Python 3 (ipykernel)",
   "language": "python",
   "name": "python3"
  },
  "language_info": {
   "codemirror_mode": {
    "name": "ipython",
    "version": 3
   },
   "file_extension": ".py",
   "mimetype": "text/x-python",
   "name": "python",
   "nbconvert_exporter": "python",
   "pygments_lexer": "ipython3",
   "version": "3.11.9"
  }
 },
 "nbformat": 4,
 "nbformat_minor": 5
}
